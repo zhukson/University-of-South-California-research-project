{
  "nbformat": 4,
  "nbformat_minor": 0,
  "metadata": {
    "colab": {
      "name": "main-sizeChange.ipynb",
      "provenance": [],
      "collapsed_sections": []
    },
    "kernelspec": {
      "display_name": "Python 3",
      "language": "python",
      "name": "python3"
    },
    "language_info": {
      "codemirror_mode": {
        "name": "ipython",
        "version": 3
      },
      "file_extension": ".py",
      "mimetype": "text/x-python",
      "name": "python",
      "nbconvert_exporter": "python",
      "pygments_lexer": "ipython3",
      "version": "3.8.8"
    },
    "accelerator": "GPU"
  },
  "cells": [
    {
      "cell_type": "code",
      "metadata": {
        "id": "eAvxj1gzXooB"
      },
      "source": [
        "# -*- coding: utf-8 -*-\n",
        "\n",
        "from tensorflow.keras.datasets import mnist\n",
        "import numpy as np\n",
        "import matplotlib.pyplot as plt\n",
        "%matplotlib inline\n",
        "from tensorflow.keras.layers import Input, Dense, Flatten, Conv2D, MaxPooling2D, UpSampling2D, Dropout\n",
        "from tensorflow.keras.models import Model, load_model\n",
        "from tensorflow.keras.models import Sequential\n",
        "from tensorflow.keras.layers import BatchNormalization\n",
        "from tensorflow.keras import layers"
      ],
      "execution_count": null,
      "outputs": []
    },
    {
      "cell_type": "code",
      "metadata": {
        "id": "8rVyvvORXooE"
      },
      "source": [
        "(x_train, _), (x_test, _) = mnist.load_data()\n",
        "x_train = x_train.astype('float32') / 255.\n",
        "x_test = x_test.astype('float32') / 255.\n",
        "x_train = np.reshape(x_train, (len(x_train), 28, 28, 1))\n",
        "x_test = np.reshape(x_test, (len(x_test), 28, 28, 1))\n",
        "# print(x_train.size)"
      ],
      "execution_count": null,
      "outputs": []
    },
    {
      "cell_type": "code",
      "metadata": {
        "collapsed": true,
        "id": "Vifc5mzwXooE"
      },
      "source": [
        "# noise_factor = 0.5\n",
        "noise_factor = 0.8\n",
        "x_train_noisy = x_train + noise_factor * np.random.normal(loc=0.0, scale=1.0, size=x_train.shape) \n",
        "x_test_noisy = x_test + noise_factor * np.random.normal(loc=0.0, scale=1.0, size=x_test.shape) \n",
        "x_train_noisy = np.clip(x_train_noisy, 0., 1.)\n",
        "x_test_noisy = np.clip(x_test_noisy, 0., 1.)"
      ],
      "execution_count": null,
      "outputs": []
    },
    {
      "cell_type": "code",
      "metadata": {
        "colab": {
          "base_uri": "https://localhost:8080/",
          "height": 129
        },
        "id": "il67mR26XooF",
        "outputId": "6aa6540f-2ce4-465f-e543-7942dde58fae"
      },
      "source": [
        "n = 10\n",
        "plt.figure(figsize=(20, 2))\n",
        "for i in range(n):\n",
        "    ax = plt.subplot(1, n, i + 1)\n",
        "    plt.imshow(x_test_noisy[i].reshape(28, 28))\n",
        "    plt.gray()\n",
        "    ax.get_xaxis().set_visible(False)\n",
        "    ax.get_yaxis().set_visible(False)\n",
        "plt.show()"
      ],
      "execution_count": null,
      "outputs": [
        {
          "output_type": "display_data",
          "data": {
            "image/png": "[encoded data removed]",
            "text/plain": [
              "<Figure size 1440x144 with 10 Axes>"
            ]
          },
          "metadata": {
            "tags": [],
            "needs_background": "light"
          }
        }
      ]
    },
    {
      "cell_type": "code",
      "metadata": {
        "collapsed": true,
        "id": "XVlQJ7-FXooF"
      },
      "source": [
        "input_img = Input(shape=(28, 28, 1,)) # N * 28 * 28 * 1"
      ],
      "execution_count": null,
      "outputs": []
    },
    {
      "cell_type": "code",
      "metadata": {
        "colab": {
          "base_uri": "https://localhost:8080/"
        },
        "id": "aTUmdWIyzn56",
        "outputId": "f92440c9-b3cf-4df2-8c87-7cc1f104b0ad"
      },
      "source": [
        "# Encoding: Input 28 * 28 * 1\n",
        "\n",
        "x = Conv2D(32, (3, 3), padding='same', activation='relu')(input_img) # 28 * 28 * 32\n",
        "x = Conv2D(64, (3, 3), padding='same', activation='relu')(x) # 28 * 28 * 64 \n",
        "x = MaxPooling2D((2, 2), padding='same')(x) # 14 * 14 * 64\n",
        "\n",
        "x = Conv2D(128, (3, 3), padding='same', activation='relu')(x) # 14 * 14 * 128\n",
        "x = Conv2D(128, (3, 3), padding='same', activation='relu')(x) # 14 * 14 * 128\n",
        "x = MaxPooling2D((2, 2), padding='same')(x) # 7 * 7 * 128\n",
        "\n",
        "x = Conv2D(256, (3, 3), padding='same', activation='relu')(x) # 7 * 7 * 256\n",
        "x = Conv2D(256, (3, 3), padding='same', activation='relu')(x) # 7 * 7 * 256\n",
        "x = Conv2D(256, (3, 3), padding='same', activation='relu')(x) # 7 * 7 * 256\n",
        "x = MaxPooling2D((2, 2), padding='same')(x) # 4 * 4 * 256\n",
        "\n",
        "x = Conv2D(512, (3, 3), padding='same', activation='relu')(x) # 4 * 4 * 512\n",
        "x = Conv2D(512, (3, 3), padding='same', activation='relu')(x) # 4 * 4 * 512\n",
        "x = Conv2D(512, (3, 3), padding='same', activation='relu')(x) # 4 * 4 * 512\n",
        "x = MaxPooling2D((2, 1), padding='same')(x) # 2 * 4 * 512\n",
        "\n",
        "x = Conv2D(512, (3, 3), padding='same', activation='relu')(x) # 2 * 4 * 512\n",
        "x = Conv2D(512, (3, 3), padding='same', activation='relu')(x) # 2 * 4 * 512\n",
        "x = Conv2D(512, (3, 3), padding='same', activation='relu')(x) # 2 * 4 * 512\n",
        "encoded = MaxPooling2D((2, 1), padding='same')(x) # 1 * 4 * 512\n",
        "\n",
        "print(encoded.shape)\n"
      ],
      "execution_count": null,
      "outputs": [
        {
          "output_type": "stream",
          "text": [
            "(None, 1, 4, 512)\n"
          ],
          "name": "stdout"
        }
      ]
    },
    {
      "cell_type": "code",
      "metadata": {
        "colab": {
          "base_uri": "https://localhost:8080/"
        },
        "id": "8BlQbZEv4AWG",
        "outputId": "d6305f9e-f850-4f9e-eedd-fa55bf7e6a4c"
      },
      "source": [
        "# Decoding: Input 1 * 4 * 512\n",
        "\n",
        "x = Conv2D(512, (3, 3), padding='same', activation='relu')(x) \n",
        "x = Conv2D(512, (3, 3), padding='same', activation='relu')(x) \n",
        "x = Conv2D(512, (3, 3), padding='same', activation='relu')(x) \n",
        "x = UpSampling2D((2, 2))(x) \n",
        "\n",
        "x = Conv2D(512, (3, 3), padding='same', activation='relu')(x)\n",
        "x = Conv2D(512, (3, 3), padding='same', activation='relu')(x)\n",
        "x = Conv2D(512, (3, 3), padding='same', activation='relu')(x) \n",
        "x = UpSampling2D((2, 2))(x)\n",
        "\n",
        "x = Conv2D(256, (3, 3), padding='same', activation='relu')(x) \n",
        "x = Conv2D(256, (3, 3), padding='same', activation='relu')(x) \n",
        "x = Conv2D(256, (3, 3), padding='same', activation='relu')(x) \n",
        "x = UpSampling2D((2, 2))(x) \n",
        "\n",
        "x = Conv2D(128, (3, 3), padding='same', activation='relu')(x) \n",
        "x = Conv2D(128, (3, 3), padding='same', activation='relu')(x) \n",
        "x = UpSampling2D((2, 2))(x) \n",
        "\n",
        "x = Conv2D(64, (3, 3), padding='same', activation='relu')(input_img)\n",
        "x = Conv2D(32, (3, 3), padding='same', activation='relu')(x)  \n",
        "x = UpSampling2D((1, 1))(x) # 28 * 28 * 32\n",
        "decoded = Conv2D(1, (3, 3), padding='same', activation='sigmoid')(x) # 28 * 28 * 1\n",
        "\n",
        "print(decoded.shape)"
      ],
      "execution_count": null,
      "outputs": [
        {
          "output_type": "stream",
          "text": [
            "(None, 28, 28, 1)\n"
          ],
          "name": "stdout"
        }
      ]
    },
    {
      "cell_type": "code",
      "metadata": {
        "id": "7J0Z78Xn6-Eb"
      },
      "source": [
        "autoencoder = Model(input_img, decoded)\n",
        "autoencoder.compile(optimizer='adadelta', loss='binary_crossentropy')"
      ],
      "execution_count": null,
      "outputs": []
    },
    {
      "cell_type": "code",
      "metadata": {
        "colab": {
          "base_uri": "https://localhost:8080/"
        },
        "id": "k_igALe47DTO",
        "outputId": "8f10be74-c8e7-4eb8-c9e6-a3623ac29576"
      },
      "source": [
        "autoencoder.fit(x_train_noisy, x_train,\n",
        "                epochs=100,\n",
        "                batch_size=128,\n",
        "                shuffle=True,\n",
        "                validation_data=(x_test_noisy, x_test))\n",
        "\n",
        "autoencoder.save('autoencoder.h5')"
      ],
      "execution_count": null,
      "outputs": [
        {
          "output_type": "stream",
          "text": [
            "Epoch 1/100\n",
            "469/469 [==============================] - 9s 18ms/step - loss: 0.6966 - val_loss: 0.6879\n",
            "Epoch 2/100\n",
            "469/469 [==============================] - 8s 17ms/step - loss: 0.6779 - val_loss: 0.6673\n",
            "Epoch 3/100\n",
            "469/469 [==============================] - 8s 17ms/step - loss: 0.6537 - val_loss: 0.6392\n",
            "Epoch 4/100\n",
            "469/469 [==============================] - 8s 17ms/step - loss: 0.6193 - val_loss: 0.5987\n",
            "Epoch 5/100\n",
            "469/469 [==============================] - 8s 17ms/step - loss: 0.5728 - val_loss: 0.5497\n",
            "Epoch 6/100\n",
            "469/469 [==============================] - 8s 17ms/step - loss: 0.5268 - val_loss: 0.5121\n",
            "Epoch 7/100\n",
            "469/469 [==============================] - 8s 17ms/step - loss: 0.4980 - val_loss: 0.4928\n",
            "Epoch 8/100\n",
            "469/469 [==============================] - 8s 17ms/step - loss: 0.4828 - val_loss: 0.4810\n",
            "Epoch 9/100\n",
            "469/469 [==============================] - 8s 17ms/step - loss: 0.4718 - val_loss: 0.4705\n",
            "Epoch 10/100\n",
            "469/469 [==============================] - 8s 17ms/step - loss: 0.4613 - val_loss: 0.4598\n",
            "Epoch 11/100\n",
            "469/469 [==============================] - 8s 17ms/step - loss: 0.4504 - val_loss: 0.4485\n",
            "Epoch 12/100\n",
            "469/469 [==============================] - 8s 17ms/step - loss: 0.4389 - val_loss: 0.4365\n",
            "Epoch 13/100\n",
            "469/469 [==============================] - 8s 17ms/step - loss: 0.4268 - val_loss: 0.4237\n",
            "Epoch 14/100\n",
            "469/469 [==============================] - 8s 17ms/step - loss: 0.4137 - val_loss: 0.4099\n",
            "Epoch 15/100\n",
            "469/469 [==============================] - 8s 17ms/step - loss: 0.3995 - val_loss: 0.3948\n",
            "Epoch 16/100\n",
            "469/469 [==============================] - 8s 17ms/step - loss: 0.3840 - val_loss: 0.3782\n",
            "Epoch 17/100\n",
            "469/469 [==============================] - 8s 17ms/step - loss: 0.3671 - val_loss: 0.3603\n",
            "Epoch 18/100\n",
            "469/469 [==============================] - 8s 17ms/step - loss: 0.3490 - val_loss: 0.3414\n",
            "Epoch 19/100\n",
            "469/469 [==============================] - 8s 17ms/step - loss: 0.3303 - val_loss: 0.3222\n",
            "Epoch 20/100\n",
            "469/469 [==============================] - 8s 17ms/step - loss: 0.3118 - val_loss: 0.3040\n",
            "Epoch 21/100\n",
            "469/469 [==============================] - 8s 17ms/step - loss: 0.2946 - val_loss: 0.2874\n",
            "Epoch 22/100\n",
            "469/469 [==============================] - 8s 17ms/step - loss: 0.2792 - val_loss: 0.2726\n",
            "Epoch 23/100\n",
            "469/469 [==============================] - 8s 17ms/step - loss: 0.2654 - val_loss: 0.2594\n",
            "Epoch 24/100\n",
            "469/469 [==============================] - 8s 17ms/step - loss: 0.2533 - val_loss: 0.2479\n",
            "Epoch 25/100\n",
            "469/469 [==============================] - 8s 17ms/step - loss: 0.2427 - val_loss: 0.2379\n",
            "Epoch 26/100\n",
            "469/469 [==============================] - 8s 17ms/step - loss: 0.2335 - val_loss: 0.2292\n",
            "Epoch 27/100\n",
            "469/469 [==============================] - 8s 17ms/step - loss: 0.2255 - val_loss: 0.2216\n",
            "Epoch 28/100\n",
            "469/469 [==============================] - 8s 17ms/step - loss: 0.2185 - val_loss: 0.2149\n",
            "Epoch 29/100\n",
            "469/469 [==============================] - 8s 17ms/step - loss: 0.2124 - val_loss: 0.2091\n",
            "Epoch 30/100\n",
            "469/469 [==============================] - 8s 17ms/step - loss: 0.2072 - val_loss: 0.2042\n",
            "Epoch 31/100\n",
            "469/469 [==============================] - 8s 17ms/step - loss: 0.2028 - val_loss: 0.2000\n",
            "Epoch 32/100\n",
            "469/469 [==============================] - 8s 17ms/step - loss: 0.1991 - val_loss: 0.1965\n",
            "Epoch 33/100\n",
            "469/469 [==============================] - 8s 17ms/step - loss: 0.1960 - val_loss: 0.1937\n",
            "Epoch 34/100\n",
            "469/469 [==============================] - 8s 17ms/step - loss: 0.1936 - val_loss: 0.1914\n",
            "Epoch 35/100\n",
            "469/469 [==============================] - 8s 17ms/step - loss: 0.1916 - val_loss: 0.1896\n",
            "Epoch 36/100\n",
            "469/469 [==============================] - 8s 17ms/step - loss: 0.1900 - val_loss: 0.1881\n",
            "Epoch 37/100\n",
            "469/469 [==============================] - 8s 17ms/step - loss: 0.1887 - val_loss: 0.1869\n",
            "Epoch 38/100\n",
            "469/469 [==============================] - 8s 17ms/step - loss: 0.1877 - val_loss: 0.1859\n",
            "Epoch 39/100\n",
            "469/469 [==============================] - 8s 17ms/step - loss: 0.1868 - val_loss: 0.1851\n",
            "Epoch 40/100\n",
            "469/469 [==============================] - 8s 17ms/step - loss: 0.1862 - val_loss: 0.1845\n",
            "Epoch 41/100\n",
            "469/469 [==============================] - 8s 17ms/step - loss: 0.1856 - val_loss: 0.1839\n",
            "Epoch 42/100\n",
            "469/469 [==============================] - 8s 17ms/step - loss: 0.1851 - val_loss: 0.1835\n",
            "Epoch 43/100\n",
            "469/469 [==============================] - 8s 17ms/step - loss: 0.1847 - val_loss: 0.1831\n",
            "Epoch 44/100\n",
            "469/469 [==============================] - 8s 17ms/step - loss: 0.1844 - val_loss: 0.1828\n",
            "Epoch 45/100\n",
            "469/469 [==============================] - 8s 17ms/step - loss: 0.1841 - val_loss: 0.1825\n",
            "Epoch 46/100\n",
            "469/469 [==============================] - 8s 17ms/step - loss: 0.1839 - val_loss: 0.1823\n",
            "Epoch 47/100\n",
            "469/469 [==============================] - 8s 17ms/step - loss: 0.1837 - val_loss: 0.1821\n",
            "Epoch 48/100\n",
            "469/469 [==============================] - 8s 17ms/step - loss: 0.1835 - val_loss: 0.1819\n",
            "Epoch 49/100\n",
            "469/469 [==============================] - 8s 17ms/step - loss: 0.1833 - val_loss: 0.1817\n",
            "Epoch 50/100\n",
            "469/469 [==============================] - 8s 17ms/step - loss: 0.1832 - val_loss: 0.1816\n",
            "Epoch 51/100\n",
            "469/469 [==============================] - 8s 18ms/step - loss: 0.1830 - val_loss: 0.1814\n",
            "Epoch 52/100\n",
            "469/469 [==============================] - 8s 17ms/step - loss: 0.1829 - val_loss: 0.1813\n",
            "Epoch 53/100\n",
            "469/469 [==============================] - 8s 17ms/step - loss: 0.1828 - val_loss: 0.1812\n",
            "Epoch 54/100\n",
            "469/469 [==============================] - 8s 17ms/step - loss: 0.1827 - val_loss: 0.1811\n",
            "Epoch 55/100\n",
            "469/469 [==============================] - 8s 17ms/step - loss: 0.1826 - val_loss: 0.1810\n",
            "Epoch 56/100\n",
            "469/469 [==============================] - 8s 17ms/step - loss: 0.1825 - val_loss: 0.1809\n",
            "Epoch 57/100\n",
            "469/469 [==============================] - 8s 17ms/step - loss: 0.1824 - val_loss: 0.1808\n",
            "Epoch 58/100\n",
            "469/469 [==============================] - 8s 17ms/step - loss: 0.1823 - val_loss: 0.1807\n",
            "Epoch 59/100\n",
            "469/469 [==============================] - 8s 17ms/step - loss: 0.1822 - val_loss: 0.1806\n",
            "Epoch 60/100\n",
            "469/469 [==============================] - 8s 17ms/step - loss: 0.1822 - val_loss: 0.1805\n",
            "Epoch 61/100\n",
            "469/469 [==============================] - 8s 17ms/step - loss: 0.1821 - val_loss: 0.1805\n",
            "Epoch 62/100\n",
            "469/469 [==============================] - 8s 17ms/step - loss: 0.1820 - val_loss: 0.1804\n",
            "Epoch 63/100\n",
            "469/469 [==============================] - 8s 17ms/step - loss: 0.1819 - val_loss: 0.1803\n",
            "Epoch 64/100\n",
            "469/469 [==============================] - 8s 17ms/step - loss: 0.1818 - val_loss: 0.1802\n",
            "Epoch 65/100\n",
            "469/469 [==============================] - 8s 17ms/step - loss: 0.1818 - val_loss: 0.1802\n",
            "Epoch 66/100\n",
            "469/469 [==============================] - 8s 17ms/step - loss: 0.1817 - val_loss: 0.1801\n",
            "Epoch 67/100\n",
            "469/469 [==============================] - 8s 17ms/step - loss: 0.1816 - val_loss: 0.1800\n",
            "Epoch 68/100\n",
            "469/469 [==============================] - 8s 17ms/step - loss: 0.1816 - val_loss: 0.1800\n",
            "Epoch 69/100\n",
            "469/469 [==============================] - 8s 17ms/step - loss: 0.1815 - val_loss: 0.1799\n",
            "Epoch 70/100\n",
            "469/469 [==============================] - 8s 17ms/step - loss: 0.1814 - val_loss: 0.1798\n",
            "Epoch 71/100\n",
            "469/469 [==============================] - 8s 17ms/step - loss: 0.1814 - val_loss: 0.1798\n",
            "Epoch 72/100\n",
            "469/469 [==============================] - 8s 17ms/step - loss: 0.1813 - val_loss: 0.1797\n",
            "Epoch 73/100\n",
            "469/469 [==============================] - 8s 17ms/step - loss: 0.1812 - val_loss: 0.1796\n",
            "Epoch 74/100\n",
            "469/469 [==============================] - 8s 17ms/step - loss: 0.1812 - val_loss: 0.1796\n",
            "Epoch 75/100\n",
            "469/469 [==============================] - 8s 17ms/step - loss: 0.1811 - val_loss: 0.1795\n",
            "Epoch 76/100\n",
            "469/469 [==============================] - 8s 17ms/step - loss: 0.1810 - val_loss: 0.1794\n",
            "Epoch 77/100\n",
            "469/469 [==============================] - 8s 17ms/step - loss: 0.1810 - val_loss: 0.1794\n",
            "Epoch 78/100\n",
            "469/469 [==============================] - 8s 18ms/step - loss: 0.1809 - val_loss: 0.1793\n",
            "Epoch 79/100\n",
            "469/469 [==============================] - 8s 17ms/step - loss: 0.1809 - val_loss: 0.1793\n",
            "Epoch 80/100\n",
            "469/469 [==============================] - 8s 17ms/step - loss: 0.1808 - val_loss: 0.1792\n",
            "Epoch 81/100\n",
            "469/469 [==============================] - 8s 17ms/step - loss: 0.1807 - val_loss: 0.1792\n",
            "Epoch 82/100\n",
            "469/469 [==============================] - 8s 17ms/step - loss: 0.1807 - val_loss: 0.1791\n",
            "Epoch 83/100\n",
            "469/469 [==============================] - 8s 17ms/step - loss: 0.1806 - val_loss: 0.1790\n",
            "Epoch 84/100\n",
            "469/469 [==============================] - 8s 17ms/step - loss: 0.1806 - val_loss: 0.1790\n",
            "Epoch 85/100\n",
            "469/469 [==============================] - 8s 17ms/step - loss: 0.1805 - val_loss: 0.1789\n",
            "Epoch 86/100\n",
            "469/469 [==============================] - 8s 18ms/step - loss: 0.1805 - val_loss: 0.1789\n",
            "Epoch 87/100\n",
            "469/469 [==============================] - 8s 17ms/step - loss: 0.1804 - val_loss: 0.1788\n",
            "Epoch 88/100\n",
            "469/469 [==============================] - 8s 17ms/step - loss: 0.1804 - val_loss: 0.1788\n",
            "Epoch 89/100\n",
            "469/469 [==============================] - 8s 17ms/step - loss: 0.1803 - val_loss: 0.1787\n",
            "Epoch 90/100\n",
            "469/469 [==============================] - 8s 18ms/step - loss: 0.1802 - val_loss: 0.1787\n",
            "Epoch 91/100\n",
            "469/469 [==============================] - 8s 17ms/step - loss: 0.1802 - val_loss: 0.1786\n",
            "Epoch 92/100\n",
            "469/469 [==============================] - 8s 17ms/step - loss: 0.1801 - val_loss: 0.1786\n",
            "Epoch 93/100\n",
            "469/469 [==============================] - 8s 17ms/step - loss: 0.1801 - val_loss: 0.1785\n",
            "Epoch 94/100\n",
            "469/469 [==============================] - 8s 17ms/step - loss: 0.1800 - val_loss: 0.1785\n",
            "Epoch 95/100\n",
            "469/469 [==============================] - 8s 17ms/step - loss: 0.1800 - val_loss: 0.1784\n",
            "Epoch 96/100\n",
            "469/469 [==============================] - 8s 17ms/step - loss: 0.1799 - val_loss: 0.1784\n",
            "Epoch 97/100\n",
            "469/469 [==============================] - 8s 17ms/step - loss: 0.1799 - val_loss: 0.1783\n",
            "Epoch 98/100\n",
            "469/469 [==============================] - 8s 17ms/step - loss: 0.1798 - val_loss: 0.1783\n",
            "Epoch 99/100\n",
            "469/469 [==============================] - 8s 17ms/step - loss: 0.1798 - val_loss: 0.1782\n",
            "Epoch 100/100\n",
            "469/469 [==============================] - 8s 18ms/step - loss: 0.1797 - val_loss: 0.1782\n"
          ],
          "name": "stdout"
        }
      ]
    },
    {
      "cell_type": "code",
      "metadata": {
        "colab": {
          "base_uri": "https://localhost:8080/",
          "height": 248
        },
        "id": "1Ckub1c-XooH",
        "outputId": "fe0636eb-2b44-4afb-8170-96bcd694d67a"
      },
      "source": [
        "autoencoder = load_model('autoencoder.h5')\n",
        "\n",
        "decoded_imgs = autoencoder.predict(x_test_noisy)\n",
        "\n",
        "n = 10\n",
        "plt.figure(figsize=(20, 4))\n",
        "for i in range(n):\n",
        "    # display original\n",
        "    ax = plt.subplot(2, n, i + 1)\n",
        "    plt.imshow(x_test_noisy[i].reshape(28, 28))\n",
        "    plt.gray()\n",
        "    ax.get_xaxis().set_visible(False)\n",
        "    ax.get_yaxis().set_visible(False)\n",
        " \n",
        "    # display reconstruction\n",
        "    ax = plt.subplot(2, n, i + 1 + n)\n",
        "    plt.imshow(decoded_imgs[i].reshape(28, 28))\n",
        "    plt.gray()\n",
        "    ax.get_xaxis().set_visible(False)\n",
        "    ax.get_yaxis().set_visible(False)\n",
        "plt.show()"
      ],
      "execution_count": null,
      "outputs": [
        {
          "output_type": "display_data",
          "data": {
            "image/png": "[encoded data removed]",
            "text/plain": [
              "<Figure size 1440x288 with 20 Axes>"
            ]
          },
          "metadata": {
            "tags": [],
            "needs_background": "light"
          }
        }
      ]
    },
    {
      "cell_type": "markdown",
      "metadata": {
        "id": "XIMaQB1WfjCD"
      },
      "source": [
        "# **Classification**"
      ]
    },
    {
      "cell_type": "code",
      "metadata": {
        "id": "Mp1lkrWimfIZ"
      },
      "source": [
        "from numpy import mean\n",
        "from numpy import std\n",
        "from matplotlib import pyplot\n",
        "from sklearn.model_selection import KFold\n",
        "from tensorflow.keras.utils import to_categorical\n",
        "from tensorflow.keras.optimizers import SGD\n",
        "from tensorflow.keras.applications.vgg16 import VGG16\n"
      ],
      "execution_count": 43,
      "outputs": []
    },
    {
      "cell_type": "code",
      "metadata": {
        "id": "9RMLfIOHmfSK"
      },
      "source": [
        ""
      ],
      "execution_count": 45,
      "outputs": []
    },
    {
      "cell_type": "code",
      "metadata": {
        "colab": {
          "base_uri": "https://localhost:8080/"
        },
        "id": "eMlM6du_ieYU",
        "outputId": "263cf478-9fca-4eec-e99e-7e4e0c686585"
      },
      "source": [
        "def define_model():\n",
        "  model = Sequential()\n",
        "\n",
        "  model.add(Conv2D(32, 3, activation='relu', padding='same', input_shape=(28, 28, 1)))\n",
        "  model.add(Conv2D(64, 3, activation='relu', padding='same'))\n",
        "  model.add(MaxPooling2D(2, 2))\n",
        "  model.add(BatchNormalization())\n",
        "\n",
        "  model.add(Conv2D(128, 3, activation='relu', padding='same'))\n",
        "  model.add(Conv2D(128, 3, activation='relu', padding='same'))\n",
        "  model.add(MaxPooling2D(2, 2))\n",
        "  model.add(BatchNormalization())\n",
        "\n",
        "  model.add(Conv2D(256, 3, activation='relu', padding='same'))\n",
        "  model.add(Conv2D(256, 3, activation='relu', padding='same'))\n",
        "  model.add(Conv2D(256, 3, activation='relu', padding='same'))\n",
        "  model.add(MaxPooling2D(2, 2))\n",
        "  model.add(BatchNormalization())\n",
        "\n",
        "  model.add(Conv2D(512, 3, activation='relu', padding='same'))\n",
        "  model.add(Conv2D(512, 3, activation='relu', padding='same'))\n",
        "  model.add(Conv2D(512, 3, activation='relu', padding='same'))\n",
        "  model.add(MaxPooling2D(2, 1)) # default stride is 2\n",
        "  model.add(BatchNormalization())\n",
        "\n",
        "  model.add(Conv2D(512, 3, activation='relu', padding='same'))\n",
        "  model.add(Conv2D(512, 3, activation='relu', padding='same'))\n",
        "  model.add(Conv2D(512, 3, activation='relu', padding='same'))\n",
        "  model.add(MaxPooling2D(2, 1)) # default stride is 2\n",
        "  model.add(BatchNormalization())\n",
        "\n",
        "  model.add(Flatten())\n",
        "  model.add(Dense(4096, activation='relu'))\n",
        "  model.add(Dropout(0.5))\n",
        "  model.add(Dense(4096, activation='relu'))\n",
        "  model.add(Dropout(0.5))\n",
        "\n",
        "  model.add(Dense(10, activation='softmax'))\n",
        "\n",
        "  # compile model\n",
        "  opt = SGD(lr=0.01, momentum=0.9)\n",
        "  model.compile(optimizer=opt, loss='categorical_crossentropy', metrics=['accuracy'])\n",
        "  return model\n",
        " \n",
        "# evaluate a model using k-fold cross-validation\n",
        "def evaluate_model(dataX, dataY, n_folds=5):\n",
        "\tscores, histories = list(), list()\n",
        "\t# prepare cross validation\n",
        "\tkfold = KFold(n_folds, shuffle=True, random_state=1)\n",
        "\t# enumerate splits\n",
        "\tfor train_ix, test_ix in kfold.split(dataX):\n",
        "\t\t# define model\n",
        "\t\tmodel = define_model()\n",
        "\t\t# select rows for train and test\n",
        "\t\ttrainX, trainY, testX, testY = dataX[train_ix], dataY[train_ix], dataX[test_ix], dataY[test_ix]\n",
        "\t\t# fit model\n",
        "\t\thistory = model.fit(trainX, trainY, epochs=10, batch_size=32, validation_data=(testX, testY), verbose=0)\n",
        "\t\t# evaluate model\n",
        "\t\t_, acc = model.evaluate(testX, testY, verbose=0)\n",
        "\t\tprint('> %.3f' % (acc * 100.0))\n",
        "\t\t# stores scores\n",
        "\t\tscores.append(acc)\n",
        "\t\thistories.append(history)\n",
        "\treturn scores, histories\n",
        " \n",
        "# plot diagnostic learning curves\n",
        "def summarize_diagnostics(histories):\n",
        "\tfor i in range(len(histories)):\n",
        "\t\t# plot loss\n",
        "\t\tpyplot.subplot(2, 1, 1)\n",
        "\t\tpyplot.title('Cross Entropy Loss')\n",
        "\t\tpyplot.plot(histories[i].history['loss'], color='blue', label='train')\n",
        "\t\tpyplot.plot(histories[i].history['val_loss'], color='orange', label='test')\n",
        "\t\t# plot accuracy\n",
        "\t\tpyplot.subplot(2, 1, 2)\n",
        "\t\tpyplot.title('Classification Accuracy')\n",
        "\t\tpyplot.plot(histories[i].history['accuracy'], color='blue', label='train')\n",
        "\t\tpyplot.plot(histories[i].history['val_accuracy'], color='orange', label='test')\n",
        "\tpyplot.show()\n",
        " \n",
        "# summarize model performance\n",
        "def summarize_performance(scores):\n",
        "\t# print summary\n",
        "\tprint('Accuracy: mean=%.3f std=%.3f, n=%d' % (mean(scores)*100, std(scores)*100, len(scores)))\n",
        "\t# box and whisker plots of results\n",
        "\tpyplot.boxplot(scores)\n",
        "\tpyplot.show()\n",
        " \n",
        "# run the test harness for evaluating a model\n",
        "def run_test_harness():\n",
        "  # load dataset\n",
        "  (trainX, trainY), (testX, testY) = mnist.load_data()\n",
        "\t# reshape dataset to have a single channel\n",
        "  trainX = trainX.reshape((trainX.shape[0], 28, 28, 1))\n",
        "  testX = testX.reshape((testX.shape[0], 28, 28, 1))\n",
        "\t# one hot encode target values\n",
        "  trainY = to_categorical(trainY)\n",
        "  testY = to_categorical(testY)\n",
        "\t#return trainX, trainY, testX, testY\n",
        "\n",
        "  # prepare pixel data\n",
        "  train_norm = trainX.astype('float32')\n",
        "  test_norm = testX.astype('float32')\n",
        "  train_norm = train_norm / 255.0\n",
        "  test_norm = test_norm / 255.0\n",
        "  trainX = train_norm\n",
        "  testX = test_norm\n",
        "\n",
        "\n",
        "  # define model\n",
        "  model = define_model()\n",
        "  \n",
        "\t# fit model\n",
        "  model.fit(trainX, trainY, epochs=10, batch_size=32, verbose=0)\n",
        "\t# save model\n",
        "  model.save('final_model.h5')\n",
        "\n",
        "  # load model\n",
        "  model = load_model('final_model.h5')\n",
        "\n",
        "  '''\n",
        "  model = VGG16()\n",
        "  opt = SGD(lr=0.01, momentum=0.9)\n",
        "  model.compile(optimizer=opt, loss='categorical_crossentropy', metrics=['accuracy'])\n",
        "  '''\n",
        "\n",
        "\t# evaluate model on test dataset\n",
        "  _, acc = model.evaluate(testX, testY, verbose=0)\n",
        "  print('> %.3f' % (acc * 100.0))\n",
        "\n",
        "\t# evaluate model\n",
        "  #scores, histories = evaluate_model(trainX, trainY)\n",
        "\t# learning curves\n",
        "\t#summarize_diagnostics(histories)\n",
        "\t# summarize estimated performance\n",
        "\t#summarize_performance(scores)\n",
        " \n",
        "# entry point, run the test harness\n",
        "run_test_harness()"
      ],
      "execution_count": 51,
      "outputs": [
        {
          "output_type": "stream",
          "text": [
            "/usr/local/lib/python3.7/dist-packages/tensorflow/python/keras/optimizer_v2/optimizer_v2.py:375: UserWarning: The `lr` argument is deprecated, use `learning_rate` instead.\n",
            "  \"The `lr` argument is deprecated, use `learning_rate` instead.\")\n"
          ],
          "name": "stderr"
        },
        {
          "output_type": "stream",
          "text": [
            "> 98.810\n"
          ],
          "name": "stdout"
        }
      ]
    },
    {
      "cell_type": "code",
      "metadata": {
        "colab": {
          "resources": {
            "http://localhost:8080/nbextensions/google.colab/files.js": {
              "data": "Ly8gQ29weXJpZ2h0IDIwMTcgR29vZ2xlIExMQwovLwovLyBMaWNlbnNlZCB1bmRlciB0aGUgQXBhY2hlIExpY2Vuc2UsIFZlcnNpb24gMi4wICh0aGUgIkxpY2Vuc2UiKTsKLy8geW91IG1heSBub3QgdXNlIHRoaXMgZmlsZSBleGNlcHQgaW4gY29tcGxpYW5jZSB3aXRoIHRoZSBMaWNlbnNlLgovLyBZb3UgbWF5IG9idGFpbiBhIGNvcHkgb2YgdGhlIExpY2Vuc2UgYXQKLy8KLy8gICAgICBodHRwOi8vd3d3LmFwYWNoZS5vcmcvbGljZW5zZXMvTElDRU5TRS0yLjAKLy8KLy8gVW5sZXNzIHJlcXVpcmVkIGJ5IGFwcGxpY2FibGUgbGF3IG9yIGFncmVlZCB0byBpbiB3cml0aW5nLCBzb2Z0d2FyZQovLyBkaXN0cmlidXRlZCB1bmRlciB0aGUgTGljZW5zZSBpcyBkaXN0cmlidXRlZCBvbiBhbiAiQVMgSVMiIEJBU0lTLAovLyBXSVRIT1VUIFdBUlJBTlRJRVMgT1IgQ09ORElUSU9OUyBPRiBBTlkgS0lORCwgZWl0aGVyIGV4cHJlc3Mgb3IgaW1wbGllZC4KLy8gU2VlIHRoZSBMaWNlbnNlIGZvciB0aGUgc3BlY2lmaWMgbGFuZ3VhZ2UgZ292ZXJuaW5nIHBlcm1pc3Npb25zIGFuZAovLyBsaW1pdGF0aW9ucyB1bmRlciB0aGUgTGljZW5zZS4KCi8qKgogKiBAZmlsZW92ZXJ2aWV3IEhlbHBlcnMgZm9yIGdvb2dsZS5jb2xhYiBQeXRob24gbW9kdWxlLgogKi8KKGZ1bmN0aW9uKHNjb3BlKSB7CmZ1bmN0aW9uIHNwYW4odGV4dCwgc3R5bGVBdHRyaWJ1dGVzID0ge30pIHsKICBjb25zdCBlbGVtZW50ID0gZG9jdW1lbnQuY3JlYXRlRWxlbWVudCgnc3BhbicpOwogIGVsZW1lbnQudGV4dENvbnRlbnQgPSB0ZXh0OwogIGZvciAoY29uc3Qga2V5IG9mIE9iamVjdC5rZXlzKHN0eWxlQXR0cmlidXRlcykpIHsKICAgIGVsZW1lbnQuc3R5bGVba2V5XSA9IHN0eWxlQXR0cmlidXRlc1trZXldOwogIH0KICByZXR1cm4gZWxlbWVudDsKfQoKLy8gTWF4IG51bWJlciBvZiBieXRlcyB3aGljaCB3aWxsIGJlIHVwbG9hZGVkIGF0IGEgdGltZS4KY29uc3QgTUFYX1BBWUxPQURfU0laRSA9IDEwMCAqIDEwMjQ7CgpmdW5jdGlvbiBfdXBsb2FkRmlsZXMoaW5wdXRJZCwgb3V0cHV0SWQpIHsKICBjb25zdCBzdGVwcyA9IHVwbG9hZEZpbGVzU3RlcChpbnB1dElkLCBvdXRwdXRJZCk7CiAgY29uc3Qgb3V0cHV0RWxlbWVudCA9IGRvY3VtZW50LmdldEVsZW1lbnRCeUlkKG91dHB1dElkKTsKICAvLyBDYWNoZSBzdGVwcyBvbiB0aGUgb3V0cHV0RWxlbWVudCB0byBtYWtlIGl0IGF2YWlsYWJsZSBmb3IgdGhlIG5leHQgY2FsbAogIC8vIHRvIHVwbG9hZEZpbGVzQ29udGludWUgZnJvbSBQeXRob24uCiAgb3V0cHV0RWxlbWVudC5zdGVwcyA9IHN0ZXBzOwoKICByZXR1cm4gX3VwbG9hZEZpbGVzQ29udGludWUob3V0cHV0SWQpOwp9CgovLyBUaGlzIGlzIHJvdWdobHkgYW4gYXN5bmMgZ2VuZXJhdG9yIChub3Qgc3VwcG9ydGVkIGluIHRoZSBicm93c2VyIHlldCksCi8vIHdoZXJlIHRoZXJlIGFyZSBtdWx0aXBsZSBhc3luY2hyb25vdXMgc3RlcHMgYW5kIHRoZSBQeXRob24gc2lkZSBpcyBnb2luZwovLyB0byBwb2xsIGZvciBjb21wbGV0aW9uIG9mIGVhY2ggc3RlcC4KLy8gVGhpcyB1c2VzIGEgUHJvbWlzZSB0byBibG9jayB0aGUgcHl0aG9uIHNpZGUgb24gY29tcGxldGlvbiBvZiBlYWNoIHN0ZXAsCi8vIHRoZW4gcGFzc2VzIHRoZSByZXN1bHQgb2YgdGhlIHByZXZpb3VzIHN0ZXAgYXMgdGhlIGlucHV0IHRvIHRoZSBuZXh0IHN0ZXAuCmZ1bmN0aW9uIF91cGxvYWRGaWxlc0NvbnRpbnVlKG91dHB1dElkKSB7CiAgY29uc3Qgb3V0cHV0RWxlbWVudCA9IGRvY3VtZW50LmdldEVsZW1lbnRCeUlkKG91dHB1dElkKTsKICBjb25zdCBzdGVwcyA9IG91dHB1dEVsZW1lbnQuc3RlcHM7CgogIGNvbnN0IG5leHQgPSBzdGVwcy5uZXh0KG91dHB1dEVsZW1lbnQubGFzdFByb21pc2VWYWx1ZSk7CiAgcmV0dXJuIFByb21pc2UucmVzb2x2ZShuZXh0LnZhbHVlLnByb21pc2UpLnRoZW4oKHZhbHVlKSA9PiB7CiAgICAvLyBDYWNoZSB0aGUgbGFzdCBwcm9taXNlIHZhbHVlIHRvIG1ha2UgaXQgYXZhaWxhYmxlIHRvIHRoZSBuZXh0CiAgICAvLyBzdGVwIG9mIHRoZSBnZW5lcmF0b3IuCiAgICBvdXRwdXRFbGVtZW50Lmxhc3RQcm9taXNlVmFsdWUgPSB2YWx1ZTsKICAgIHJldHVybiBuZXh0LnZhbHVlLnJlc3BvbnNlOwogIH0pOwp9CgovKioKICogR2VuZXJhdG9yIGZ1bmN0aW9uIHdoaWNoIGlzIGNhbGxlZCBiZXR3ZWVuIGVhY2ggYXN5bmMgc3RlcCBvZiB0aGUgdXBsb2FkCiAqIHByb2Nlc3MuCiAqIEBwYXJhbSB7c3RyaW5nfSBpbnB1dElkIEVsZW1lbnQgSUQgb2YgdGhlIGlucHV0IGZpbGUgcGlja2VyIGVsZW1lbnQuCiAqIEBwYXJhbSB7c3RyaW5nfSBvdXRwdXRJZCBFbGVtZW50IElEIG9mIHRoZSBvdXRwdXQgZGlzcGxheS4KICogQHJldHVybiB7IUl0ZXJhYmxlPCFPYmplY3Q+fSBJdGVyYWJsZSBvZiBuZXh0IHN0ZXBzLgogKi8KZnVuY3Rpb24qIHVwbG9hZEZpbGVzU3RlcChpbnB1dElkLCBvdXRwdXRJZCkgewogIGNvbnN0IGlucHV0RWxlbWVudCA9IGRvY3VtZW50LmdldEVsZW1lbnRCeUlkKGlucHV0SWQpOwogIGlucHV0RWxlbWVudC5kaXNhYmxlZCA9IGZhbHNlOwoKICBjb25zdCBvdXRwdXRFbGVtZW50ID0gZG9jdW1lbnQuZ2V0RWxlbWVudEJ5SWQob3V0cHV0SWQpOwogIG91dHB1dEVsZW1lbnQuaW5uZXJIVE1MID0gJyc7CgogIGNvbnN0IHBpY2tlZFByb21pc2UgPSBuZXcgUHJvbWlzZSgocmVzb2x2ZSkgPT4gewogICAgaW5wdXRFbGVtZW50LmFkZEV2ZW50TGlzdGVuZXIoJ2NoYW5nZScsIChlKSA9PiB7CiAgICAgIHJlc29sdmUoZS50YXJnZXQuZmlsZXMpOwogICAgfSk7CiAgfSk7CgogIGNvbnN0IGNhbmNlbCA9IGRvY3VtZW50LmNyZWF0ZUVsZW1lbnQoJ2J1dHRvbicpOwogIGlucHV0RWxlbWVudC5wYXJlbnRFbGVtZW50LmFwcGVuZENoaWxkKGNhbmNlbCk7CiAgY2FuY2VsLnRleHRDb250ZW50ID0gJ0NhbmNlbCB1cGxvYWQnOwogIGNvbnN0IGNhbmNlbFByb21pc2UgPSBuZXcgUHJvbWlzZSgocmVzb2x2ZSkgPT4gewogICAgY2FuY2VsLm9uY2xpY2sgPSAoKSA9PiB7CiAgICAgIHJlc29sdmUobnVsbCk7CiAgICB9OwogIH0pOwoKICAvLyBXYWl0IGZvciB0aGUgdXNlciB0byBwaWNrIHRoZSBmaWxlcy4KICBjb25zdCBmaWxlcyA9IHlpZWxkIHsKICAgIHByb21pc2U6IFByb21pc2UucmFjZShbcGlja2VkUHJvbWlzZSwgY2FuY2VsUHJvbWlzZV0pLAogICAgcmVzcG9uc2U6IHsKICAgICAgYWN0aW9uOiAnc3RhcnRpbmcnLAogICAgfQogIH07CgogIGNhbmNlbC5yZW1vdmUoKTsKCiAgLy8gRGlzYWJsZSB0aGUgaW5wdXQgZWxlbWVudCBzaW5jZSBmdXJ0aGVyIHBpY2tzIGFyZSBub3QgYWxsb3dlZC4KICBpbnB1dEVsZW1lbnQuZGlzYWJsZWQgPSB0cnVlOwoKICBpZiAoIWZpbGVzKSB7CiAgICByZXR1cm4gewogICAgICByZXNwb25zZTogewogICAgICAgIGFjdGlvbjogJ2NvbXBsZXRlJywKICAgICAgfQogICAgfTsKICB9CgogIGZvciAoY29uc3QgZmlsZSBvZiBmaWxlcykgewogICAgY29uc3QgbGkgPSBkb2N1bWVudC5jcmVhdGVFbGVtZW50KCdsaScpOwogICAgbGkuYXBwZW5kKHNwYW4oZmlsZS5uYW1lLCB7Zm9udFdlaWdodDogJ2JvbGQnfSkpOwogICAgbGkuYXBwZW5kKHNwYW4oCiAgICAgICAgYCgke2ZpbGUudHlwZSB8fCAnbi9hJ30pIC0gJHtmaWxlLnNpemV9IGJ5dGVzLCBgICsKICAgICAgICBgbGFzdCBtb2RpZmllZDogJHsKICAgICAgICAgICAgZmlsZS5sYXN0TW9kaWZpZWREYXRlID8gZmlsZS5sYXN0TW9kaWZpZWREYXRlLnRvTG9jYWxlRGF0ZVN0cmluZygpIDoKICAgICAgICAgICAgICAgICAgICAgICAgICAgICAgICAgICAgJ24vYSd9IC0gYCkpOwogICAgY29uc3QgcGVyY2VudCA9IHNwYW4oJzAlIGRvbmUnKTsKICAgIGxpLmFwcGVuZENoaWxkKHBlcmNlbnQpOwoKICAgIG91dHB1dEVsZW1lbnQuYXBwZW5kQ2hpbGQobGkpOwoKICAgIGNvbnN0IGZpbGVEYXRhUHJvbWlzZSA9IG5ldyBQcm9taXNlKChyZXNvbHZlKSA9PiB7CiAgICAgIGNvbnN0IHJlYWRlciA9IG5ldyBGaWxlUmVhZGVyKCk7CiAgICAgIHJlYWRlci5vbmxvYWQgPSAoZSkgPT4gewogICAgICAgIHJlc29sdmUoZS50YXJnZXQucmVzdWx0KTsKICAgICAgfTsKICAgICAgcmVhZGVyLnJlYWRBc0FycmF5QnVmZmVyKGZpbGUpOwogICAgfSk7CiAgICAvLyBXYWl0IGZvciB0aGUgZGF0YSB0byBiZSByZWFkeS4KICAgIGxldCBmaWxlRGF0YSA9IHlpZWxkIHsKICAgICAgcHJvbWlzZTogZmlsZURhdGFQcm9taXNlLAogICAgICByZXNwb25zZTogewogICAgICAgIGFjdGlvbjogJ2NvbnRpbnVlJywKICAgICAgfQogICAgfTsKCiAgICAvLyBVc2UgYSBjaHVua2VkIHNlbmRpbmcgdG8gYXZvaWQgbWVzc2FnZSBzaXplIGxpbWl0cy4gU2VlIGIvNjIxMTU2NjAuCiAgICBsZXQgcG9zaXRpb24gPSAwOwogICAgZG8gewogICAgICBjb25zdCBsZW5ndGggPSBNYXRoLm1pbihmaWxlRGF0YS5ieXRlTGVuZ3RoIC0gcG9zaXRpb24sIE1BWF9QQVlMT0FEX1NJWkUpOwogICAgICBjb25zdCBjaHVuayA9IG5ldyBVaW50OEFycmF5KGZpbGVEYXRhLCBwb3NpdGlvbiwgbGVuZ3RoKTsKICAgICAgcG9zaXRpb24gKz0gbGVuZ3RoOwoKICAgICAgY29uc3QgYmFzZTY0ID0gYnRvYShTdHJpbmcuZnJvbUNoYXJDb2RlLmFwcGx5KG51bGwsIGNodW5rKSk7CiAgICAgIHlpZWxkIHsKICAgICAgICByZXNwb25zZTogewogICAgICAgICAgYWN0aW9uOiAnYXBwZW5kJywKICAgICAgICAgIGZpbGU6IGZpbGUubmFtZSwKICAgICAgICAgIGRhdGE6IGJhc2U2NCwKICAgICAgICB9LAogICAgICB9OwoKICAgICAgbGV0IHBlcmNlbnREb25lID0gZmlsZURhdGEuYnl0ZUxlbmd0aCA9PT0gMCA/CiAgICAgICAgICAxMDAgOgogICAgICAgICAgTWF0aC5yb3VuZCgocG9zaXRpb24gLyBmaWxlRGF0YS5ieXRlTGVuZ3RoKSAqIDEwMCk7CiAgICAgIHBlcmNlbnQudGV4dENvbnRlbnQgPSBgJHtwZXJjZW50RG9uZX0lIGRvbmVgOwoKICAgIH0gd2hpbGUgKHBvc2l0aW9uIDwgZmlsZURhdGEuYnl0ZUxlbmd0aCk7CiAgfQoKICAvLyBBbGwgZG9uZS4KICB5aWVsZCB7CiAgICByZXNwb25zZTogewogICAgICBhY3Rpb246ICdjb21wbGV0ZScsCiAgICB9CiAgfTsKfQoKc2NvcGUuZ29vZ2xlID0gc2NvcGUuZ29vZ2xlIHx8IHt9OwpzY29wZS5nb29nbGUuY29sYWIgPSBzY29wZS5nb29nbGUuY29sYWIgfHwge307CnNjb3BlLmdvb2dsZS5jb2xhYi5fZmlsZXMgPSB7CiAgX3VwbG9hZEZpbGVzLAogIF91cGxvYWRGaWxlc0NvbnRpbnVlLAp9Owp9KShzZWxmKTsK",
              "ok": true,
              "headers": [
                [
                  "content-type",
                  "application/javascript"
                ]
              ],
              "status": 200,
              "status_text": ""
            }
          },
          "base_uri": "https://localhost:8080/",
          "height": 178
        },
        "id": "TYfASGx1yJ2O",
        "outputId": "aed1edb0-e6fa-4c4b-dda3-43bc4e70b101"
      },
      "source": [
        "# make a prediction for a new image.\n",
        "from keras.preprocessing.image import load_img\n",
        "from keras.preprocessing.image import img_to_array\n",
        "from keras.models import load_model\n",
        "\n",
        "from google.colab import files\n",
        "files.upload()\n",
        "\n",
        "# load and prepare the image\n",
        "def load_image(filename):\n",
        "\t# load the image\n",
        "\timg = load_img(filename, grayscale=True, target_size=(28, 28))\n",
        "\t# convert to array\n",
        "\timg = img_to_array(img)\n",
        "\t# reshape into a single sample with 1 channel\n",
        "\timg = img.reshape(1, 28, 28, 1)\n",
        "\t# prepare pixel data\n",
        "\timg = img.astype('float32')\n",
        "\timg = img / 255.0\n",
        "\treturn img\n",
        " \n",
        "# load an image and predict the class\n",
        "def run_example():\n",
        "\t# load the image\n",
        "\timg = load_image('sample1.png')\n",
        "\t# load model\n",
        "\tmodel = load_model('final_model.h5')\n",
        "\t# predict the class\n",
        "\tdigit = model.predict_classes(img)\n",
        "\tprint(\"The number on the image is \", digit[0])\n",
        " \n",
        "# entry point, run the example\n",
        "run_example()"
      ],
      "execution_count": 52,
      "outputs": [
        {
          "output_type": "display_data",
          "data": {
            "text/html": [
              "\n",
              "     <input type=\"file\" id=\"files-5e8f5900-0286-42c7-a029-71070d78ebfa\" name=\"files[]\" multiple disabled\n",
              "        style=\"border:none\" />\n",
              "     <output id=\"result-5e8f5900-0286-42c7-a029-71070d78ebfa\">\n",
              "      Upload widget is only available when the cell has been executed in the\n",
              "      current browser session. Please rerun this cell to enable.\n",
              "      </output>\n",
              "      <script src=\"/nbextensions/google.colab/files.js\"></script> "
            ],
            "text/plain": [
              "<IPython.core.display.HTML object>"
            ]
          },
          "metadata": {
            "tags": []
          }
        },
        {
          "output_type": "stream",
          "text": [
            "Saving sample1.png to sample1 (4).png\n"
          ],
          "name": "stdout"
        },
        {
          "output_type": "stream",
          "text": [
            "/usr/local/lib/python3.7/dist-packages/keras_preprocessing/image/utils.py:107: UserWarning: grayscale is deprecated. Please use color_mode = \"grayscale\"\n",
            "  warnings.warn('grayscale is deprecated. Please use '\n",
            "/usr/local/lib/python3.7/dist-packages/keras/engine/sequential.py:450: UserWarning: `model.predict_classes()` is deprecated and will be removed after 2021-01-01. Please use instead:* `np.argmax(model.predict(x), axis=-1)`,   if your model does multi-class classification   (e.g. if it uses a `softmax` last-layer activation).* `(model.predict(x) > 0.5).astype(\"int32\")`,   if your model does binary classification   (e.g. if it uses a `sigmoid` last-layer activation).\n",
            "  warnings.warn('`model.predict_classes()` is deprecated and '\n"
          ],
          "name": "stderr"
        },
        {
          "output_type": "stream",
          "text": [
            "The number on the image is  7\n"
          ],
          "name": "stdout"
        }
      ]
    },
    {
      "cell_type": "code",
      "metadata": {
        "id": "PZrYanCu7LQ4"
      },
      "source": [
        ""
      ],
      "execution_count": null,
      "outputs": []
    }
  ]
}